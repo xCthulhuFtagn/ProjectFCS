{
 "cells": [
  {
   "cell_type": "code",
   "execution_count": null,
   "metadata": {},
   "outputs": [
    {
     "name": "stdout",
     "output_type": "stream",
     "text": [
      "Hello there!\n",
      "get_new_trns\n",
      "analyze_trns\n"
     ]
    },
    {
     "name": "stdout",
     "output_type": "stream",
     "text": [
      "Node Connection - True\n",
      "Connection attempt - 1\n",
      "5.335613489151001 per 1 batch\n",
      "Decompling to opcodes\n"
     ]
    },
    {
     "name": "stderr",
     "output_type": "stream",
     "text": [
      "invalid instruction: PUSH19\n"
     ]
    },
    {
     "name": "stdout",
     "output_type": "stream",
     "text": [
      "Normalizing opcode\n",
      "Address - 0x3328F7f4A1D1C57c35df56bBf0c9dCAFCA309C49Hash - NoneIs_malicious? [False]\n",
      "Decompling to opcodes\n",
      "Normalizing opcode\n",
      "Address - 0x3328F7f4A1D1C57c35df56bBf0c9dCAFCA309C49Hash - NoneIs_malicious? [False]\n",
      "Decompling to opcodes\n"
     ]
    },
    {
     "name": "stderr",
     "output_type": "stream",
     "text": [
      "invalid instruction: PUSH26\n"
     ]
    },
    {
     "name": "stdout",
     "output_type": "stream",
     "text": [
      "Normalizing opcode\n",
      "Address - 0x6b75d8AF000000e20B7a7DDf000Ba900b4009A80Hash - NoneIs_malicious? [False]\n",
      "5.320193767547607 per 1 batch\n",
      "Decompling to opcodes\n"
     ]
    },
    {
     "name": "stderr",
     "output_type": "stream",
     "text": [
      "invalid instruction: PUSH27\n"
     ]
    },
    {
     "name": "stdout",
     "output_type": "stream",
     "text": [
      "Normalizing opcode\n",
      "Address - 0x3fC91A3afd70395Cd496C647d5a6CC9D4B2b7FADHash - NoneIs_malicious? [False]\n",
      "Decompling to opcodes\n"
     ]
    },
    {
     "name": "stderr",
     "output_type": "stream",
     "text": [
      "invalid instruction: PUSH27\n"
     ]
    },
    {
     "name": "stdout",
     "output_type": "stream",
     "text": [
      "Normalizing opcode\n",
      "Address - 0x6b75d8AF000000e20B7a7DDf000Ba900b4009A80Hash - NoneIs_malicious? [False]\n",
      "Decompling to opcodes\n",
      "Normalizing opcode\n",
      "Address - 0xD37BbE5744D730a1d98d8DC97c42F0Ca46aD7146Hash - NoneIs_malicious? [False]\n",
      "5.304132461547852 per 1 batch\n",
      "Decompling to opcodes\n"
     ]
    },
    {
     "name": "stderr",
     "output_type": "stream",
     "text": [
      "invalid instruction: PUSH19\n"
     ]
    },
    {
     "name": "stdout",
     "output_type": "stream",
     "text": [
      "Normalizing opcode\n",
      "Address - 0x80a64c6D7f12C47B7c66c5B4E20E72bc1FCd5d9eHash - NoneIs_malicious? [False]\n",
      "Decompling to opcodes\n",
      "Normalizing opcode\n",
      "Address - 0x7a250d5630B4cF539739dF2C5dAcb4c659F2488DHash - NoneIs_malicious? [False]\n",
      "5.356725454330444 per 1 batch\n",
      "Decompling to opcodes\n",
      "Normalizing opcode\n",
      "Address - 0x15b327EC40d57f465891d0f1AE29F2c7E9F2C71DHash - NoneIs_malicious? [ True]\n",
      "Decompling to opcodes\n"
     ]
    },
    {
     "name": "stderr",
     "output_type": "stream",
     "text": [
      "invalid instruction: PUSH29\n"
     ]
    },
    {
     "name": "stdout",
     "output_type": "stream",
     "text": [
      "Normalizing opcode\n",
      "Address - 0x9008D19f58AAbD9eD0D60971565AA8510560ab41Hash - NoneIs_malicious? [False]\n",
      "Decompling to opcodes\n",
      "Normalizing opcode\n",
      "Address - 0x3fC91A3afd70395Cd496C647d5a6CC9D4B2b7FADHash - NoneIs_malicious? [False]\n",
      "5.389742374420166 per 1 batch\n",
      "Decompling to opcodes\n",
      "Normalizing opcode\n",
      "Address - 0x80a64c6D7f12C47B7c66c5B4E20E72bc1FCd5d9eHash - NoneIs_malicious? [False]\n",
      "Decompling to opcodes\n",
      "Normalizing opcode\n",
      "Address - 0xC8a313000631C533D244D30d1DcEA4cE9bdA7D58Hash - NoneIs_malicious? [ True]\n",
      "Decompling to opcodes\n"
     ]
    },
    {
     "name": "stderr",
     "output_type": "stream",
     "text": [
      "invalid instruction: PUSH26\n"
     ]
    },
    {
     "name": "stdout",
     "output_type": "stream",
     "text": [
      "Normalizing opcode\n",
      "Address - 0x410e10C33a49279f78CB99c8d816F18D5e7D5404Hash - NoneIs_malicious? [False]\n",
      "5.342502117156982 per 1 batch\n",
      "Decompling to opcodes\n"
     ]
    },
    {
     "name": "stderr",
     "output_type": "stream",
     "text": [
      "invalid instruction: PUSH16\n"
     ]
    },
    {
     "name": "stdout",
     "output_type": "stream",
     "text": [
      "Normalizing opcode\n",
      "Address - 0x3fC91A3afd70395Cd496C647d5a6CC9D4B2b7FADHash - NoneIs_malicious? [False]\n",
      "Decompling to opcodes\n",
      "Normalizing opcode\n",
      "Address - 0x858646372CC42E1A627fcE94aa7A7033e7CF075AHash - NoneIs_malicious? [False]\n",
      "5.2947869300842285 per 1 batch\n",
      "Decompling to opcodes\n",
      "Normalizing opcode\n",
      "Address - 0xd42126D46813472F83104811533c03c807E65435Hash - NoneIs_malicious? [False]\n",
      "Decompling to opcodes\n"
     ]
    },
    {
     "name": "stderr",
     "output_type": "stream",
     "text": [
      "invalid instruction: PUSH30\n"
     ]
    },
    {
     "name": "stdout",
     "output_type": "stream",
     "text": [
      "Normalizing opcode\n",
      "Address - 0x3AB8B6FFed231A16ab70b3725480E674AC0fc5b9Hash - NoneIs_malicious? [False]\n",
      "Decompling to opcodes\n"
     ]
    },
    {
     "name": "stderr",
     "output_type": "stream",
     "text": [
      "invalid instruction: PUSH28\n"
     ]
    },
    {
     "name": "stdout",
     "output_type": "stream",
     "text": [
      "Normalizing opcode\n",
      "Address - 0xa41d2f8Ee4F47D3B860A149765A7dF8c3287b7F0Hash - NoneIs_malicious? [False]\n",
      "5.398833513259888 per 1 batch\n",
      "Decompling to opcodes\n"
     ]
    },
    {
     "name": "stderr",
     "output_type": "stream",
     "text": [
      "invalid instruction: PUSH27\n"
     ]
    },
    {
     "name": "stdout",
     "output_type": "stream",
     "text": [
      "Normalizing opcode\n",
      "Address - 0xB62E45c3Df611dcE236A6Ddc7A493d79F9DFadEfHash - NoneIs_malicious? [False]\n",
      "Decompling to opcodes\n",
      "Normalizing opcode\n",
      "Address - 0x2290995bB9C481306F83Bd8f549D9F1C41357444Hash - NoneIs_malicious? [False]\n",
      "Decompling to opcodes\n"
     ]
    },
    {
     "name": "stderr",
     "output_type": "stream",
     "text": [
      "invalid instruction: PUSH14\n"
     ]
    },
    {
     "name": "stdout",
     "output_type": "stream",
     "text": [
      "Normalizing opcode\n",
      "Address - 0x04815313E9329e8905A77251A1781CfA7934259aHash - NoneIs_malicious? [False]\n",
      "5.341037273406982 per 1 batch\n",
      "Decompling to opcodes\n",
      "Normalizing opcode\n",
      "Address - 0x04815313E9329e8905A77251A1781CfA7934259aHash - NoneIs_malicious? [ True]\n"
     ]
    }
   ],
   "source": [
    "from utils import decompile, inference\n",
    "from web3 import Web3\n",
    "from keys import NODE_ADDRESS\n",
    "from multiprocessing import Process, Manager, Queue, Lock\n",
    "import time\n",
    "\n",
    "import warnings\n",
    "\n",
    "warnings.filterwarnings(\"ignore\")\n",
    "\n",
    "def get_new_trns(q_out: Queue):\n",
    "    print(\"get_new_trns\")\n",
    "    \"\"\"\n",
    "    !Work in separate process\n",
    "\n",
    "    q_out: Queue with new deploys\n",
    "\n",
    "    Функция для прослушивания последних блоков в блокчейне, если новая транзакция - деплой, то записываем в очередь\n",
    "\n",
    "    Ваша обработка отключения от ноды +1 балл\n",
    "    \"\"\"\n",
    "    i = 1\n",
    "    wss = NODE_ADDRESS\n",
    "    connected = False\n",
    "    while not connected:\n",
    "        w3 = Web3(Web3.WebsocketProvider(wss))\n",
    "        connected = w3.is_connected()\n",
    "        print(f'Node Connection - {connected}')\n",
    "        print(f'Connection attempt - {i}')\n",
    "        i+=1\n",
    "    while True:\n",
    "        try:\n",
    "            start_time = time.time()\n",
    "            time.sleep(5)\n",
    "            trns_block = w3.eth.get_block('latest', full_transactions=True, ).transactions # считываем батч новых транз\n",
    "            for trns in trns_block:\n",
    "                # if trns['to'] is None: # смотрим что транзакция это деплой\n",
    "                q_out.put(trns)\n",
    "            end_time = time.time()\n",
    "            print(f\"{end_time - start_time} per 1 batch\")\n",
    "        except Exception as e:\n",
    "            print(e)\n",
    "            #TODO Ваша обработка нарушения соединения с нодой\n",
    "            pass\n",
    "\n",
    "def analyze_trns(q_in: Queue):\n",
    "    print(\"analyze_trns\")\n",
    "    \"\"\"\n",
    "    !Work in separate process\n",
    "    \n",
    "    q_in: Queue with new deploys to analyze\n",
    "    \n",
    "    Функция для анализа деплоев, принтит результат деплоя а именно\n",
    "    1) Адресс контракта\n",
    "    2) Хеш транзакции\n",
    "    3) Результат классификации\n",
    "    +1 балл работа с дублирующимися транзакциями\n",
    "    +1 балл за имплементацию работы с ML моделью\n",
    "    :param q_in:\n",
    "    :return:\n",
    "    \"\"\"\n",
    "    #TODO Ваша имплементация\n",
    "    while True:\n",
    "        time.sleep(2)\n",
    "        if q_in.empty(): continue\n",
    "        transact = q_in.get()\n",
    "        opcode = decompile(transact['input'])\n",
    "        trns_address = transact['to']\n",
    "        trns_hash = transact.get('Hash', None)\n",
    "        y_class = inference(opcode)\n",
    "        print(f\"Address - {trns_address}\"\n",
    "            f\"Hash - {trns_hash}\"\n",
    "            f\"Is_malicious? {y_class}\")\n",
    "\n",
    "\n",
    "if __name__ == '__main__':\n",
    "    print('Hello there!')\n",
    "    # Queue for new pending trns\n",
    "    new_deploys_trns_queue = Queue()\n",
    "    new_deploys_tracker = Process(name='Mempool Scanner',\n",
    "                              target=get_new_trns,\n",
    "                              args=(new_deploys_trns_queue, ),\n",
    "                              daemon=True)\n",
    "\n",
    "    deploy_analyzer = Process(name='Mempool analyzer',\n",
    "                              target=analyze_trns,\n",
    "                              args=(new_deploys_trns_queue, ),\n",
    "                              daemon=True)\n",
    "\n",
    "    # start\n",
    "    new_deploys_tracker.start()\n",
    "    deploy_analyzer.start()\n",
    "\n",
    "\n"
   ]
  }
 ],
 "metadata": {
  "kernelspec": {
   "display_name": ".venv",
   "language": "python",
   "name": "python3"
  },
  "language_info": {
   "codemirror_mode": {
    "name": "ipython",
    "version": 3
   },
   "file_extension": ".py",
   "mimetype": "text/x-python",
   "name": "python",
   "nbconvert_exporter": "python",
   "pygments_lexer": "ipython3",
   "version": "3.10.12"
  }
 },
 "nbformat": 4,
 "nbformat_minor": 2
}
